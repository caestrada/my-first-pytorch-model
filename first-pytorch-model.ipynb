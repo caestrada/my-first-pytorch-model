{
 "cells": [
  {
   "cell_type": "markdown",
   "id": "01b6f49a",
   "metadata": {},
   "source": [
    "# Train Your first PyTorch Model [Card Classifier]"
   ]
  },
  {
   "cell_type": "markdown",
   "id": "58848d63",
   "metadata": {},
   "source": [
    "In this tutorial I'm following the instructions from the following **YouTube** video.\n",
    "\n",
    "[Build Your First Pytorch Model In Minutes!](https://www.youtube.com/watch?v=tHL5STNJKag)\n",
    "\n",
    "[Kaggle Notebook](https://www.kaggle.com/code/robikscube/train-your-first-pytorch-model-card-classifier)"
   ]
  },
  {
   "cell_type": "code",
   "execution_count": null,
   "id": "0e6cafde",
   "metadata": {},
   "outputs": [],
   "source": []
  }
 ],
 "metadata": {
  "kernelspec": {
   "display_name": "Python 3 (ipykernel)",
   "language": "python",
   "name": "python3"
  },
  "language_info": {
   "codemirror_mode": {
    "name": "ipython",
    "version": 3
   },
   "file_extension": ".py",
   "mimetype": "text/x-python",
   "name": "python",
   "nbconvert_exporter": "python",
   "pygments_lexer": "ipython3",
   "version": "3.11.5"
  }
 },
 "nbformat": 4,
 "nbformat_minor": 5
}
